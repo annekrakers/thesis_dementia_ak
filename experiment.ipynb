{
 "cells": [
  {
   "cell_type": "code",
   "execution_count": 798,
   "metadata": {},
   "outputs": [],
   "source": [
    "import pandas as pd\n",
    "from sklearn.svm import SVC\n",
    "from sklearn import svm\n",
    "from sklearn import metrics\n",
    "from sklearn.naive_bayes import GaussianNB\n",
    "from sklearn.neighbors import KNeighborsClassifier\n",
    "from sklearn.pipeline import Pipeline\n",
    "from sklearn.dummy import DummyClassifier\n",
    "from src.preprocessing import read_chat_file_pauses_to_dict, chat_count_dict_to_df\n",
    "from src.classifier import split_train_test, fit_classifier, predict, eval_clf\n",
    "from sklearn.preprocessing import MinMaxScaler\n",
    "from sklearn.metrics import accuracy_score\n",
    "import seaborn as sns\n",
    "from sklearn.model_selection import GridSearchCV\n",
    "from sklearn.metrics import f1_score, accuracy_score, precision_score, recall_score\n",
    "import itertools\n",
    "import matplotlib.pyplot as plt\n",
    "import numpy as np\n",
    "from sklearn import svm, datasets\n",
    "from sklearn.metrics import confusion_matrix"
   ]
  },
  {
   "cell_type": "code",
   "execution_count": 799,
   "metadata": {},
   "outputs": [],
   "source": [
    "\n",
    "def read_data() -> pd.DataFrame:\n",
    "    \"\"\"\n",
    "    Read the all the files.\n",
    "    \"\"\"\n",
    "    # Dementia\n",
    "    directory_path = \"./chat_files/dementia/cookie\"\n",
    "    chat_file_pauses_dict = read_chat_file_pauses_to_dict(directory_path, filter_by_participant=\"PAR\", label=1)\n",
    "    df_dementia = chat_count_dict_to_df(chat_file_pauses_dict)\n",
    "\n",
    "    # Control\n",
    "    directory_path = \"./chat_files/control/cookie\"\n",
    "    chat_file_pauses_dict = read_chat_file_pauses_to_dict(directory_path, filter_by_participant=\"PAR\", label=0)\n",
    "    df_control = chat_count_dict_to_df(chat_file_pauses_dict)\n",
    "\n",
    "    # Concat dataframes\n",
    "    df = pd.concat([df_dementia, df_control]).sort_values(\"file_path\").reset_index(drop=True)\n",
    "\n",
    "    # apply normalization techniques\n",
    "    # change when using other feature combinations\n",
    "    cols_to_norm = [\"(.)\",\"(..)\", \"(...)\" ,\"&\"]\n",
    "    scaler = MinMaxScaler()\n",
    "    df[cols_to_norm] = scaler.fit_transform(df[cols_to_norm])\n",
    "\n",
    "    return df\n",
    "\n",
    "\n",
    "def traintest(df):\n",
    "    # change when using other feature combinations\n",
    "    X = df[[\"(.)\",\"(..)\", \"(...)\" ,\"&\"]]\n",
    "    y = df[\"label\"]\n",
    "    return split_train_test(X=X, y=y, test_size=0.2, random_state=42)\n",
    "\n",
    "\n",
    "def dummy_classifier(df):\n",
    "    \"\"\"\n",
    "    Make predictions that ignore the input features\n",
    "    \"\"\"\n",
    "    X_train, X_test, y_train, y_test = traintest(df)\n",
    "\n",
    "    dummy_clf = DummyClassifier(strategy=\"most_frequent\")\n",
    "    dummy_clf.fit(X_train, y_train)\n",
    "\n",
    "    return dummy_clf.score(X_test, y_test)\n",
    "\n",
    "\n",
    "def evaluate_classifier(df: pd.DataFrame, clf: Pipeline) -> dict:\n",
    "    \"\"\"\n",
    "    Evaluate a classifier.\n",
    "    \"\"\"\n",
    "    X_train, X_test, y_train, y_test = traintest(df)\n",
    "\n",
    "    trained_clf = fit_classifier(clf, X_train, y_train)\n",
    "    y_pred = predict(trained_clf, X_test)\n",
    "    eval_scores = eval_clf(y_test, y_pred)\n",
    "    return eval_scores, y_test, y_pred\n",
    "    \n"
   ]
  },
  {
   "cell_type": "code",
   "execution_count": 802,
   "metadata": {},
   "outputs": [],
   "source": [
    "def evaluate_model(df, clf):\n",
    "    predicted_targets = np.array([])\n",
    "    actual_targets = np.array([])\n",
    "    eval_scores, y_test, predicted_labels = evaluate_classifier(df, clf)\n",
    "    predicted_targets = np.append(predicted_targets, predicted_labels)\n",
    "        \n",
    "    actual_targets = np.append(actual_targets, y_test)\n",
    "\n",
    "    return predicted_targets, actual_targets"
   ]
  },
  {
   "cell_type": "code",
   "execution_count": 805,
   "metadata": {},
   "outputs": [
    {
     "name": "stdout",
     "output_type": "stream",
     "text": [
      "{'f1_score': 0.4615384615384615, 'accuracy_score': 0.5545454545454546, 'precision_score': 0.6774193548387096, 'recall_score': 0.35} \n",
      "\n"
     ]
    },
    {
     "data": {
      "image/png": "[encoded data removed]",
      "text/plain": [
       "<Figure size 640x480 with 2 Axes>"
      ]
     },
     "metadata": {},
     "output_type": "display_data"
    },
    {
     "name": "stdout",
     "output_type": "stream",
     "text": [
      "Predicted: \n",
      " [1. 0. 0. 1. 1. 0. 1. 0. 0. 0. 0. 1. 0. 0. 0. 0. 0. 1. 0. 1. 1. 1. 1. 1.\n",
      " 0. 0. 0. 0. 0. 0. 0. 0. 0. 0. 0. 0. 1. 0. 0. 1. 0. 0. 0. 0. 1. 0. 1. 1.\n",
      " 0. 1. 0. 0. 0. 0. 1. 0. 0. 0. 0. 0. 1. 1. 1. 0. 0. 0. 0. 1. 0. 0. 0. 0.\n",
      " 0. 0. 1. 0. 0. 0. 0. 0. 0. 1. 1. 0. 0. 1. 0. 1. 0. 0. 1. 1. 0. 0. 0. 0.\n",
      " 0. 0. 1. 0. 0. 0. 0. 0. 0. 0. 0. 0. 1. 0.] \n",
      "\n",
      "Actual: \n",
      " [0. 1. 0. 1. 1. 1. 0. 0. 0. 1. 1. 1. 0. 1. 1. 0. 0. 1. 0. 1. 1. 1. 1. 1.\n",
      " 1. 1. 0. 1. 1. 0. 0. 1. 0. 1. 1. 0. 1. 0. 1. 1. 0. 0. 0. 1. 1. 1. 1. 0.\n",
      " 0. 1. 1. 1. 1. 0. 0. 0. 0. 1. 0. 1. 1. 1. 0. 1. 0. 0. 1. 1. 0. 0. 1. 0.\n",
      " 0. 1. 0. 0. 1. 1. 0. 0. 1. 1. 0. 1. 0. 1. 0. 1. 0. 1. 0. 0. 0. 1. 1. 0.\n",
      " 0. 1. 0. 1. 1. 0. 1. 1. 0. 1. 0. 0. 1. 1.]\n"
     ]
    }
   ],
   "source": [
    "df = read_data()\n",
    "# change to KNeighborsClassifier() or SVC() when using the other models\n",
    "clf = GaussianNB()\n",
    "\n",
    "# confusion matrix \n",
    "predicted, actual = evaluate_model(df, clf)\n",
    "confusion_matrix = metrics.confusion_matrix(actual, predicted)\n",
    "cm_display = metrics.ConfusionMatrixDisplay(confusion_matrix = confusion_matrix, display_labels=['HC','AD'])\n",
    "\n",
    "eval_scores, y_test, y_pred = evaluate_classifier(df, clf)\n",
    "# print f1-score, accuracy, precision, recall\n",
    "print(eval_scores, \"\\n\")\n",
    "\n",
    "# show confusion matrix\n",
    "cm_display.plot()\n",
    "plt.show()\n",
    "\n",
    "# print labels predicted by model and true labels\n",
    "print(\"Predicted: \\n\", predicted, \"\\n\")\n",
    "print(\"Actual: \\n\", actual)"
   ]
  },
  {
   "cell_type": "code",
   "execution_count": null,
   "metadata": {},
   "outputs": [],
   "source": []
  },
  {
   "cell_type": "code",
   "execution_count": null,
   "metadata": {},
   "outputs": [],
   "source": []
  }
 ],
 "metadata": {
  "kernelspec": {
   "display_name": "Python 3 (ipykernel)",
   "language": "python",
   "name": "python3"
  },
  "language_info": {
   "codemirror_mode": {
    "name": "ipython",
    "version": 3
   },
   "file_extension": ".py",
   "mimetype": "text/x-python",
   "name": "python",
   "nbconvert_exporter": "python",
   "pygments_lexer": "ipython3",
   "version": "3.11.0"
  }
 },
 "nbformat": 4,
 "nbformat_minor": 4
}